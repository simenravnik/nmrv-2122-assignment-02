{
 "cells": [
  {
   "cell_type": "code",
   "execution_count": 2,
   "metadata": {},
   "outputs": [],
   "source": [
    "from ex2_utils import create_epanechnik_kernel, generate_responses_1, get_patch\n",
    "import cv2\n",
    "import numpy as np\n",
    "import matplotlib.pyplot as plt\n",
    "import math"
   ]
  },
  {
   "cell_type": "code",
   "execution_count": 11,
   "metadata": {},
   "outputs": [],
   "source": [
    "def mean_shift(frame, kernel_size, position, eps=0.05):\n",
    "\n",
    "    if kernel_size % 2 == 0:\n",
    "        kernel_size = kernel_size + 1\n",
    "        print(\"kernel_size must me an odd number, switching to kernel_size\", kernel_size)\n",
    "\n",
    "    xi_X = np.array([list(range(-math.floor(kernel_size / 2), math.floor(kernel_size / 2) + 1)) for i in range(kernel_size)])\n",
    "    xi_Y = xi_X.T\n",
    "\n",
    "    positions = []\n",
    "    iter_count = 0\n",
    "    while True:\n",
    "        wi, _ = get_patch(frame, position, (kernel_size, kernel_size))\n",
    "\n",
    "        # Calculate the changes in both x and y directions\n",
    "        xk_X = np.sum(xi_X * wi) / np.sum(wi)\n",
    "        xk_Y = np.sum(xi_Y * wi) / np.sum(wi)\n",
    "\n",
    "        # Update the position accordingly\n",
    "        position = (position[0] + xk_X, position[1] + xk_Y)\n",
    "        positions.append(tuple(map(int, np.floor(position))))\n",
    "        print(position)\n",
    "\n",
    "        # Check if the algorithm converged\n",
    "        if abs(xk_X) < eps and abs(xk_Y) < eps:\n",
    "            break\n",
    "\n",
    "        # Sanity check if the algorihtm does not converge\n",
    "        if iter_count >= 500:\n",
    "            break\n",
    "\n",
    "        iter_count += 1\n",
    "\n",
    "    position = tuple(map(int, np.floor(position)))\n",
    "    return position, iter_count, positions\n"
   ]
  }
 ],
 "metadata": {
  "interpreter": {
   "hash": "0603d9c830f4e3d3d08dadd894053eb7ef51ce4008e6825d393bca114e91d170"
  },
  "kernelspec": {
   "display_name": "Python 3.9.10 ('nmrv')",
   "language": "python",
   "name": "python3"
  },
  "language_info": {
   "codemirror_mode": {
    "name": "ipython",
    "version": 3
   },
   "file_extension": ".py",
   "mimetype": "text/x-python",
   "name": "python",
   "nbconvert_exporter": "python",
   "pygments_lexer": "ipython3",
   "version": "3.9.10"
  },
  "orig_nbformat": 4
 },
 "nbformat": 4,
 "nbformat_minor": 2
}

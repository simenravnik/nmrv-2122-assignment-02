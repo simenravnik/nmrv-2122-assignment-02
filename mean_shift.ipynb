{
 "cells": [
  {
   "cell_type": "code",
   "execution_count": 86,
   "metadata": {},
   "outputs": [],
   "source": [
    "from ex2_utils import create_epanechnik_kernel, generate_responses_1, get_patch\n",
    "import cv2\n",
    "import numpy as np\n",
    "import matplotlib.pyplot as plt\n",
    "import math"
   ]
  },
  {
   "cell_type": "code",
   "execution_count": 99,
   "metadata": {},
   "outputs": [],
   "source": [
    "def mean_shift(frame, size, position, eps=0.05):\n",
    "    # Round to odd number\n",
    "    kernel_size_x = int(math.ceil(size[0] / 2)) * 2 - 1\n",
    "    kernel_size_y = int(math.ceil(size[1] / 2)) * 2 - 1\n",
    "\n",
    "    # Caculate the derivatives of size of kernel\n",
    "    x = np.arange(-(kernel_size_x // 2), (kernel_size_x // 2) + 1)\n",
    "    y = np.arange(-(kernel_size_y // 2), (kernel_size_y // 2) + 1)\n",
    "    xi_X, xi_Y = np.meshgrid(x, y)\n",
    "\n",
    "    positions = []\n",
    "    iter_count = 0\n",
    "    while True:\n",
    "        wi, _ = get_patch(frame, position, (kernel_size_x, kernel_size_y))\n",
    "\n",
    "        # Calculate the changes in both x and y directions\n",
    "        xk_X = np.sum(xi_X * wi) / np.sum(wi)\n",
    "        xk_Y = np.sum(xi_Y * wi) / np.sum(wi)\n",
    "\n",
    "        # Update the position accordingly\n",
    "        position = (position[0] + xk_X, position[1] + xk_Y)\n",
    "        positions.append(tuple(map(int, np.floor(position))))\n",
    "\n",
    "        # Check if the algorithm converged\n",
    "        if abs(xk_X) < eps and abs(xk_Y) < eps:\n",
    "            break\n",
    "\n",
    "        # Sanity check if the algorihtm does not converge\n",
    "        if iter_count >= 500:\n",
    "            break\n",
    "\n",
    "        iter_count += 1\n",
    "\n",
    "    position = tuple(map(int, np.floor(position)))\n",
    "    return position, iter_count, positions\n"
   ]
  },
  {
   "cell_type": "code",
   "execution_count": 100,
   "metadata": {},
   "outputs": [
    {
     "name": "stdout",
     "output_type": "stream",
     "text": [
      "(51, 70) 211\n"
     ]
    }
   ],
   "source": [
    "responses = generate_responses_1()\n",
    "size = (6, 5)\n",
    "eps = 0.01\n",
    "starting_position = (60, 60)\n",
    "position, iters, positions = mean_shift(responses, size, starting_position, eps)\n",
    "print(position, iters)"
   ]
  },
  {
   "cell_type": "code",
   "execution_count": null,
   "metadata": {},
   "outputs": [],
   "source": []
  }
 ],
 "metadata": {
  "interpreter": {
   "hash": "0603d9c830f4e3d3d08dadd894053eb7ef51ce4008e6825d393bca114e91d170"
  },
  "kernelspec": {
   "display_name": "Python 3.9.10 ('nmrv')",
   "language": "python",
   "name": "python3"
  },
  "language_info": {
   "codemirror_mode": {
    "name": "ipython",
    "version": 3
   },
   "file_extension": ".py",
   "mimetype": "text/x-python",
   "name": "python",
   "nbconvert_exporter": "python",
   "pygments_lexer": "ipython3",
   "version": "3.9.10"
  },
  "orig_nbformat": 4
 },
 "nbformat": 4,
 "nbformat_minor": 2
}
